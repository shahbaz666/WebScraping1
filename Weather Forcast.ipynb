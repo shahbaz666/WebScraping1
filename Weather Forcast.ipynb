{
 "cells": [
  {
   "cell_type": "code",
   "execution_count": 6,
   "metadata": {},
   "outputs": [],
   "source": [
    "from selenium import webdriver\n",
    "from bs4 import BeautifulSoup\n",
    "import csv"
   ]
  },
  {
   "cell_type": "code",
   "execution_count": 7,
   "metadata": {},
   "outputs": [],
   "source": [
    "url = 'https://forecast.weather.gov/MapClick.php?lat=37.777120000000025&lon=-122.41963999999996#.X5kUp1gzbtQ'\n",
    "driver = webdriver.Chrome()\n",
    "driver.get(url)"
   ]
  },
  {
   "cell_type": "code",
   "execution_count": 8,
   "metadata": {},
   "outputs": [],
   "source": [
    "soup = BeautifulSoup(driver.page_source,'html.parser')"
   ]
  },
  {
   "cell_type": "code",
   "execution_count": 9,
   "metadata": {},
   "outputs": [],
   "source": [
    "results = soup.find_all('div',{\"class\":\"tombstone-container\"})"
   ]
  },
  {
   "cell_type": "code",
   "execution_count": 13,
   "metadata": {},
   "outputs": [],
   "source": [
    "# finding the weather description forecast from the other table\n",
    "c_result = soup.find_all('div',{\"class\":\"row-forecast\"})"
   ]
  },
  {
   "cell_type": "code",
   "execution_count": 14,
   "metadata": {},
   "outputs": [],
   "source": [
    "#The period description is different in the two tables so we will clean the text for matching them\n",
    "def remove(string): \n",
    "    return string.replace(\" \", \"\") "
   ]
  },
  {
   "cell_type": "code",
   "execution_count": 15,
   "metadata": {},
   "outputs": [],
   "source": [
    "def extract_record(item):\n",
    "    \"\"\"extract and return result from a single result\"\"\"\n",
    "    period = item.p.text.strip()\n",
    "    short_desc = item.find('p',{'class':'short-desc'}).text.strip()\n",
    "    temp = item.find('p',{'class':'temp'}).text.strip()\n",
    "    desc=''\n",
    "    for c_item in c_result:\n",
    "        if period==remove(c_item.find('div',{\"class\":\"col-sm-2 forecast-label\"}).text.strip()):\n",
    "            desc =c_item.find('div',{\"class\":\"col-sm-10 forecast-text\"}).text.strip()\n",
    "    result = (period,short_desc,temp,desc)\n",
    "    return result"
   ]
  },
  {
   "cell_type": "code",
   "execution_count": 16,
   "metadata": {},
   "outputs": [],
   "source": [
    "records = []\n",
    "for item in results:\n",
    "    record = extract_record(item)\n",
    "    records.append(record)\n",
    "driver.close()"
   ]
  },
  {
   "cell_type": "code",
   "execution_count": 17,
   "metadata": {},
   "outputs": [
    {
     "data": {
      "text/plain": [
       "[('Tonight',\n",
       "  'Partly Cloudy',\n",
       "  'Low: 53 °F',\n",
       "  'Partly cloudy, with a low around 53. West southwest wind around 6 mph.'),\n",
       " ('Friday',\n",
       "  'Mostly Sunny',\n",
       "  'High: 71 °F',\n",
       "  'Mostly sunny, with a high near 71. West wind 3 to 8 mph.'),\n",
       " ('FridayNight',\n",
       "  'Partly Cloudy',\n",
       "  'Low: 52 °F',\n",
       "  'Partly cloudy, with a low around 52. West wind 5 to 9 mph.'),\n",
       " ('Saturday',\n",
       "  'Mostly Sunny',\n",
       "  'High: 74 °F',\n",
       "  'Mostly sunny, with a high near 74. Calm wind becoming west around 6 mph in the afternoon.'),\n",
       " ('SaturdayNight',\n",
       "  'Mostly Clear',\n",
       "  'Low: 53 °F',\n",
       "  'Mostly clear, with a low around 53. West southwest wind 5 to 9 mph.'),\n",
       " ('Sunday', 'Sunny', 'High: 76 °F', 'Sunny, with a high near 76.'),\n",
       " ('SundayNight',\n",
       "  'Mostly Clear',\n",
       "  'Low: 54 °F',\n",
       "  'Mostly clear, with a low around 54.'),\n",
       " ('Monday', 'Sunny', 'High: 76 °F', 'Sunny, with a high near 76.'),\n",
       " ('MondayNight',\n",
       "  'Partly Cloudy',\n",
       "  'Low: 54 °F',\n",
       "  'Partly cloudy, with a low around 54.')]"
      ]
     },
     "execution_count": 17,
     "metadata": {},
     "output_type": "execute_result"
    }
   ],
   "source": [
    "records"
   ]
  },
  {
   "cell_type": "code",
   "execution_count": 18,
   "metadata": {},
   "outputs": [],
   "source": [
    "#save data in csv file\n",
    "with open('weather_forcast.csv','w', newline='',encoding='utf-8') as f:\n",
    "    writer = csv.writer(f)\n",
    "    writer.writerow(['period', 'short_desc', 'temp', 'desc'])\n",
    "    writer.writerows(records)"
   ]
  },
  {
   "cell_type": "code",
   "execution_count": null,
   "metadata": {},
   "outputs": [],
   "source": []
  }
 ],
 "metadata": {
  "kernelspec": {
   "display_name": "Python 3",
   "language": "python",
   "name": "python3"
  },
  "language_info": {
   "codemirror_mode": {
    "name": "ipython",
    "version": 3
   },
   "file_extension": ".py",
   "mimetype": "text/x-python",
   "name": "python",
   "nbconvert_exporter": "python",
   "pygments_lexer": "ipython3",
   "version": "3.7.6"
  }
 },
 "nbformat": 4,
 "nbformat_minor": 4
}

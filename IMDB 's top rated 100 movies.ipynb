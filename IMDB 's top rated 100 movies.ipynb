{
 "cells": [
  {
   "cell_type": "code",
   "execution_count": 1,
   "metadata": {},
   "outputs": [],
   "source": [
    "import csv\n",
    "from selenium import webdriver\n",
    "from bs4 import BeautifulSoup"
   ]
  },
  {
   "cell_type": "code",
   "execution_count": 3,
   "metadata": {},
   "outputs": [],
   "source": [
    "url = 'https://www.imdb.com/list/ls091520106/'\n",
    "driver = webdriver.Chrome()\n",
    "driver.get(url)"
   ]
  },
  {
   "cell_type": "code",
   "execution_count": 4,
   "metadata": {},
   "outputs": [],
   "source": [
    "soup = BeautifulSoup(driver.page_source,'html.parser')"
   ]
  },
  {
   "cell_type": "code",
   "execution_count": 5,
   "metadata": {},
   "outputs": [],
   "source": [
    "results = soup.find_all('div',{\"class\":\"lister-item-content\"})"
   ]
  },
  {
   "cell_type": "code",
   "execution_count": 6,
   "metadata": {},
   "outputs": [],
   "source": [
    "def extract_record(item):\n",
    "    \"\"\"extract and return result from a single result\"\"\"\n",
    "    a_tag = item.h3.a\n",
    "    name = a_tag.text\n",
    "    rating = item.find('span',{'class':'ipl-rating-star__rating'}).text\n",
    "    year = item.find('span',{'class':'lister-item-year text-muted unbold'}).text\n",
    "    result = (name,rating,year)\n",
    "    return result"
   ]
  },
  {
   "cell_type": "code",
   "execution_count": 7,
   "metadata": {},
   "outputs": [],
   "source": [
    "records = []\n",
    "for item in results:\n",
    "    record = extract_record(item)\n",
    "    records.append(record)\n",
    "driver.close()"
   ]
  },
  {
   "cell_type": "code",
   "execution_count": 8,
   "metadata": {},
   "outputs": [
    {
     "data": {
      "text/plain": [
       "[('The Shawshank Redemption', '9.3', '(1994)'),\n",
       " ('The Godfather', '9.2', '(1972)'),\n",
       " ('The Godfather: Part II', '9', '(1974)'),\n",
       " ('The Dark Knight', '9', '(2008)'),\n",
       " ('12 Angry Men', '8.9', '(1957)'),\n",
       " (\"Schindler's List\", '8.9', '(1993)'),\n",
       " ('The Lord of the Rings: The Return of the King', '8.9', '(2003)'),\n",
       " ('Pulp Fiction', '8.9', '(1994)'),\n",
       " ('The Good, the Bad and the Ugly', '8.8', '(1966)'),\n",
       " ('Fight Club', '8.8', '(1999)'),\n",
       " ('Joker', '8.5', '(2019)'),\n",
       " ('The Lord of the Rings: The Fellowship of the Ring', '8.8', '(2001)'),\n",
       " ('Forrest Gump', '8.8', '(1994)'),\n",
       " ('Inception', '8.8', '(2010)'),\n",
       " ('Star Wars: Episode V - The Empire Strikes Back', '8.7', '(1980)'),\n",
       " ('The Lord of the Rings: The Two Towers', '8.7', '(2002)'),\n",
       " ('The Matrix', '8.7', '(1999)'),\n",
       " (\"One Flew Over the Cuckoo's Nest\", '8.7', '(1975)'),\n",
       " ('Goodfellas', '8.7', '(1990)'),\n",
       " ('Seven Samurai', '8.6', '(1954)'),\n",
       " ('Se7en', '8.6', '(1995)'),\n",
       " ('City of God', '8.6', '(2002)'),\n",
       " ('Life Is Beautiful', '8.6', '(1997)'),\n",
       " ('The Silence of the Lambs', '8.6', '(1991)'),\n",
       " ('Star Wars: Episode IV - A New Hope', '8.6', '(1977)'),\n",
       " (\"It's a Wonderful Life\", '8.6', '(1946)'),\n",
       " ('Saving Private Ryan', '8.6', '(1998)'),\n",
       " ('Spirited Away', '8.6', '(2001)'),\n",
       " ('The Green Mile', '8.6', '(1999)'),\n",
       " ('Léon: The Professional', '8.5', '(1994)'),\n",
       " ('Harakiri', '8.6', '(1962)'),\n",
       " ('Interstellar', '8.6', '(2014)'),\n",
       " ('The Usual Suspects', '8.5', '(1995)'),\n",
       " ('The Lion King', '8.5', '(1994)'),\n",
       " ('American History X', '8.5', '(1998)'),\n",
       " ('Back to the Future', '8.5', '(1985)'),\n",
       " ('The Pianist', '8.5', '(2002)'),\n",
       " ('Modern Times', '8.5', '(1936)'),\n",
       " ('Terminator 2: Judgment Day', '8.5', '(1991)'),\n",
       " ('The Intouchables', '8.5', '(2011)'),\n",
       " ('Psycho', '8.5', '(1960)'),\n",
       " ('Gladiator', '8.5', '(2000)'),\n",
       " ('City Lights', '8.5', '(1931)'),\n",
       " ('The Departed', '8.5', '(2006)'),\n",
       " ('Whiplash', '8.5', '(2014)'),\n",
       " ('Once Upon a Time in the West', '8.5', '(1968)'),\n",
       " ('The Prestige', '8.5', '(2006)'),\n",
       " ('Avengers: Endgame', '8.4', '(2019)'),\n",
       " ('Casablanca', '8.5', '(1942)'),\n",
       " ('Grave of the Fireflies', '8.5', '(1988)'),\n",
       " ('Rear Window', '8.4', '(1954)'),\n",
       " ('Cinema Paradiso', '8.5', '(1988)'),\n",
       " ('Alien', '8.4', '(1979)'),\n",
       " ('Raiders of the Lost Ark', '8.4', '(1981)'),\n",
       " ('Memento', '8.4', '(2000)'),\n",
       " ('Apocalypse Now', '8.4', '(1979)'),\n",
       " ('The Great Dictator', '8.4', '(1940)'),\n",
       " ('The Lives of Others', '8.4', '(2006)'),\n",
       " ('Avengers: Infinity War', '8.4', '(2018)'),\n",
       " ('Django Unchained', '8.4', '(2012)'),\n",
       " ('Spider-Man: Into the Spider-Verse', '8.4', '(2018)'),\n",
       " ('The Shining', '8.4', '(1980)'),\n",
       " ('Paths of Glory', '8.4', '(1957)'),\n",
       " ('WALL·E', '8.4', '(2008)'),\n",
       " ('Sunset Blvd.', '8.4', '(1950)'),\n",
       " ('Dr. Strangelove or: How I Learned to Stop Worrying and Love the Bomb',\n",
       "  '8.4',\n",
       "  '(1964)'),\n",
       " ('Princess Mononoke', '8.4', '(1997)'),\n",
       " ('Oldboy', '8.4', '(2003)'),\n",
       " ('Witness for the Prosecution', '8.4', '(1957)'),\n",
       " ('The Dark Knight Rises', '8.4', '(2012)'),\n",
       " ('Once Upon a Time in America', '8.4', '(1984)'),\n",
       " ('Parasite', '8.6', '(2019)'),\n",
       " ('Aliens', '8.3', '(1986)'),\n",
       " ('American Beauty', '8.3', '(1999)'),\n",
       " ('Coco', '8.4', '(I) (2017)'),\n",
       " ('Your Name.', '8.4', '(2016)'),\n",
       " ('Braveheart', '8.3', '(1995)'),\n",
       " ('Das Boot', '8.3', '(1981)'),\n",
       " ('3 Idiots', '8.4', '(2009)'),\n",
       " ('Taare Zameen Par', '8.4', '(2007)'),\n",
       " ('Star Wars: Episode VI - Return of the Jedi', '8.3', '(1983)'),\n",
       " ('Toy Story', '8.3', '(1995)'),\n",
       " ('Reservoir Dogs', '8.3', '(1992)'),\n",
       " ('Amadeus', '8.3', '(1984)'),\n",
       " ('Dangal', '8.4', '(2016)'),\n",
       " ('Good Will Hunting', '8.3', '(1997)'),\n",
       " ('Inglourious Basterds', '8.3', '(2009)'),\n",
       " ('M', '8.3', '(1931)'),\n",
       " ('Requiem for a Dream', '8.3', '(2000)'),\n",
       " ('2001: A Space Odyssey', '8.3', '(1968)'),\n",
       " ('Vertigo', '8.3', '(1958)'),\n",
       " ('Eternal Sunshine of the Spotless Mind', '8.3', '(2004)'),\n",
       " ('Citizen Kane', '8.3', '(1941)'),\n",
       " ('Full Metal Jacket', '8.3', '(1987)'),\n",
       " ('The Hunt', '8.3', '(2012)'),\n",
       " ('North by Northwest', '8.3', '(1959)'),\n",
       " ('A Clockwork Orange', '8.3', '(1971)'),\n",
       " ('Snatch', '8.3', '(2000)'),\n",
       " ('Amélie', '8.3', '(2001)'),\n",
       " ('The Kid', '8.3', '(1921)')]"
      ]
     },
     "execution_count": 8,
     "metadata": {},
     "output_type": "execute_result"
    }
   ],
   "source": [
    "records"
   ]
  },
  {
   "cell_type": "code",
   "execution_count": 37,
   "metadata": {},
   "outputs": [],
   "source": [
    "#save data in csv file\n",
    "with open('imdbtop100_results.csv','w', newline='',encoding='utf-8') as f:\n",
    "    writer = csv.writer(f)\n",
    "    writer.writerow(['Name', 'Rating', 'Year',])\n",
    "    writer.writerows(records)"
   ]
  },
  {
   "cell_type": "code",
   "execution_count": null,
   "metadata": {},
   "outputs": [],
   "source": []
  }
 ],
 "metadata": {
  "kernelspec": {
   "display_name": "Python 3",
   "language": "python",
   "name": "python3"
  },
  "language_info": {
   "codemirror_mode": {
    "name": "ipython",
    "version": 3
   },
   "file_extension": ".py",
   "mimetype": "text/x-python",
   "name": "python",
   "nbconvert_exporter": "python",
   "pygments_lexer": "ipython3",
   "version": "3.7.6"
  }
 },
 "nbformat": 4,
 "nbformat_minor": 4
}

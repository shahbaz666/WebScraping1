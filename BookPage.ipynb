{
 "cells": [
  {
   "cell_type": "code",
   "execution_count": 1,
   "metadata": {},
   "outputs": [],
   "source": [
    "from selenium import webdriver\n",
    "from bs4 import BeautifulSoup\n",
    "import csv"
   ]
  },
  {
   "cell_type": "code",
   "execution_count": 2,
   "metadata": {},
   "outputs": [],
   "source": [
    "url = 'https://bookpage.com/reviews'\n",
    "driver = webdriver.Chrome()\n",
    "driver.get(url)"
   ]
  },
  {
   "cell_type": "code",
   "execution_count": 3,
   "metadata": {},
   "outputs": [],
   "source": [
    "soup = BeautifulSoup(driver.page_source,'html.parser')"
   ]
  },
  {
   "cell_type": "code",
   "execution_count": 4,
   "metadata": {},
   "outputs": [],
   "source": [
    "results = soup.find_all('div',{\"class\":\"row-fluid article-row\"},limit=5)"
   ]
  },
  {
   "cell_type": "code",
   "execution_count": 7,
   "metadata": {},
   "outputs": [],
   "source": [
    "def extract_record(item):\n",
    "    \"\"\"extract and return result from a single result\"\"\"\n",
    "    title = item.h4.a.text\n",
    "    author = item.find('p','sans bold').text.strip()\n",
    "    try:\n",
    "        genre = item.find('p','genre-links hidden-phone').a.text\n",
    "    except AttributeError:\n",
    "        return\n",
    "    review_url = 'https://www.bookpage.com' + item.find('div','read-full').a.get('href')\n",
    "    driver.get(review_url)\n",
    "    review_soup = BeautifulSoup(driver.page_source,'html.parser')\n",
    "    review = review_soup.find('div','article-body').text.strip()\n",
    "    result = (title,author,genre,review)\n",
    "    return result"
   ]
  },
  {
   "cell_type": "code",
   "execution_count": 8,
   "metadata": {},
   "outputs": [],
   "source": [
    "records = []\n",
    "for item in results:\n",
    "    record = extract_record(item)\n",
    "    records.append(record)\n",
    "driver.close()"
   ]
  },
  {
   "cell_type": "code",
   "execution_count": 9,
   "metadata": {},
   "outputs": [
    {
     "data": {
      "text/plain": [
       "[('I’ll Be Seeing You',\n",
       "  'Elizabeth Berg',\n",
       "  'Nonfiction',\n",
       "  '“This book is a diary of my parents’ decline.”\\nSo opens novelist Elizabeth Berg’s new biographic memoir, I’ll Be Seeing You.\\xa0Yes, her prologue speaks bluntly, but don\\'t be deterred.\\xa0Though this book\\xa0does bear witness to the inevitability of aging and loss, it is nonetheless a small gem shining with Berg’s signature largesse—generous gifts of poetic insight,\\xa0close observance, vulnerability, honesty, humor and grace.\\nBerg’s father, a\\xa0tough U.S. Army “lifer,” is in the early stages of Alzheimer’s disease, while his wife of more than 67 years tries to cope. Though he\\'s always been\\xa0autocratic and demanding, Berg’s father unconditionally adores his wife.\\xa0“She was the place where he put his tenderness,” Berg writes. Eventually, his gradual descent into dementia, along with his wife’s advancing age, force the couple to move from their\\xa0longtime home into a two-bedroom apartment in an assisted living facility.\\nBerg and her sister try to negotiate and navigate this upheaval with their parents’ best interests at heart, but complications arise. Their father is increasingly confused and isolated, and their usually even-tempered mother becomes\\xa0angry—an understandable reaction to her two-pronged grief over losing her husband to dementia and leaving a beloved home.\\xa0“My mother was enraged,\" Berg writes.\\xa0\"Her heart was breaking because her house was being taken from her, which is to say that her life was.”\\nFrom the fall of 2010 to the summer of 2011, short diary entries focus mainly on the events of Berg’s aging parents’ lives, as the author and her sister step in to be their parents’ loving—and often frustrated—family caregivers. “It’s hard to know how to rescue someone. It’s hard to know how to help them in the way they need to be helped,” she writes in one entry. Such rueful reflections are blended with\\xa0an appreciation of ordinary moments, making each entry\\xa0a story in miniature—cameos of the joys and pains of family life, and\\xa0the challenges and rewards of caregiving for loved ones.\\nReaders familiar with Berg’s novels know that her stories wonderfully encompass the comforts of beauty and wry humor, but they never sugarcoat life’s hard truths. The same is true of I\\'ll Be Seeing You, which mines the wisdom hidden in difficult times.\\xa0“Life is a minefield at any age,\" Berg\\xa0writes.\\xa0\"If we’re smart, we count our blessings between the darker surprises. When I look at my parents’ lives, I know they were lucky. And still are.”'),\n",
       " ('The Cold Millions',\n",
       "  'Jess Walter',\n",
       "  'Fiction',\n",
       "  'Jess Walter’s first novel in eight years arrives with the weight of high expectations. His last, Beautiful Ruins, was a surprising and well-deserved bestseller. His previous fiction—including crime novels, a 9/11 tale and short stories—were rapturously reviewed.\\nIn The Cold Millions, Walter tries another mixed genre, the Western historical novel, and shows he is a master at investigating the “hobo” world of 1909. The star of the book is Spokane, Washington, a “boomtown that just kept booming.” It is here, amid skid row poverty and mansions of wealth, that 19-year-old rabble rouser Elizabeth Gurley Flynn intersects with two orphaned young men, Rye and Gig, who are the protagonists of the story.\\nThe book is uneven, however, and falls short of the\\xa0romanticism of Beautiful Ruins. There is fine detail on dark anarchy and dank jail cells, but unlike Walter’s funny version of Richard Burton in Ruins, Flynn is so focused (one might say didactic) as to be wooden. Her leadership of the dismal class struggle\\xa0becomes repetitive. Rye and Gig are callow, and even though Gig is a book lover and Rye a striver, they don’t fully inhabit their space.\\xa0Readers may be far more interested in\\xa0the villain, a robber baron named Brand, and a smart circus performer named\\xa0Ursula the Great. When these two are cavorting, The Cold Millions shines.\\nWalter has devised some fantastic set pieces, including a riot that leads to a dreadful scene of jail overcrowding. The freedom of the road, the lawlessness of the police, the spectacle of a few cynical power figures making life miserable for the huddled masses—it’s all\\xa0enlivened by Walter’s vivid writing. A reader can feel the rails rattling under the trains that thunder through the mountains. A new life, the 20th century, is roaring into being. As Rye thinks to himself, “History is like a parade.”\\xa0\\nForget the book’s shortcomings; it’s good to have Jess Walter back.\\n\\xa0\\nALSO IN BOOKPAGE: Jess Walter offers a closer look at The Cold Millions,\\xa0his “last-gasp\\xa0Western.”'),\n",
       " ('Inside Story',\n",
       "  'Martin Amis',\n",
       "  'Fiction',\n",
       "  'Though this book is categorized as a novel, there is little that, on the surface, appears fictional in British writer Martin Amis’ capacious “novelized memoir,” Inside Story. The book, he writes in its opening pages, “is about a life, my own, so it won’t read like a novel—more like a collection of linked short stories, with essayistic detours.” These short stories might better be called “episodes” that congeal into a metanarrative that is largely about the author’s lasting friendships with three late writers whose deaths left various scars on his personal landscape: his dear friend Christopher Hitchens, his mentor Saul Bellow and his parents’ close friend, the poet Philip Larkin.\\nAmis’ account sprawls back and forth across decades and continents, shifting not only in time but also in tense and voice, interrupted by a sometimes overwhelming quantity of explicating footnotes. This intentional disregard for conventional storytelling further blurs the line between truth and imagination. The reader presumes that much of the content is true at heart, with specifics morphed by the passage of time and the untrustworthiness of memory. But which parts are made up?\\nReaders might suspect that the character of Phoebe Phelps, a quirky, often infuriating girlfriend from the 1970s who remains Amis’ obsession for his entire adult life, is based in truth, if perhaps wildly exaggerated. But was she really a former escort turned high-class madam masquerading as a financial executive? Who knows? Amis certainly isn’t saying, nor should he. The important thing is that Phoebe drops a tantalizing, if dubious, bombshell halfway through that provides the book’s most compelling plot twist.\\nIn one of the labyrinthine footnotes late in the book, Amis says of Bellow, “All the dead were in his custody, and he couldn’t let them go.” These elegant words might be applied to the real-life Amis as well. Now 71, this once-young buck of the British literary scene cannot help but look death, mortality and the meaning of life squarely in the face. And he does so with a singular panache and much offhanded wit, forging through upheavals past and present: 9/11, the Israeli-Palestinian conflict, the Trump presidency, totalitarianism, Islamism, the sexual revolution, Alzheimer’s and cancer, among many other dark realities.\\nMost readers will likely deem Inside Story more memoir than novel. It is certainly a sui generis work either way. Early on I christened it a “kitchen sink” book (as in, “everything but the”) and had to laugh, about halfway in, when the fictional Amis actually “poured the [drink] down the kitchen sink.” Yet whatever its hybrid status suggests, it regally caps Amis’ estimable literary career with cheeky candor and more than a touch of razzle-dazzle.'),\n",
       " ('The Tower of Fools',\n",
       "  'Andrzej Sapkowski',\n",
       "  'Science Fiction & Fantasy',\n",
       "  \"Take a moment and consider the last time you studied medieval European history, specifically the advent of Hussite “heresy” in the wake of John Wycliffe’s translation of the Bible into the common tongue. Focus specifically on the years between 1400 and 1440, during which the first through third anti-Hussite crusades took place. If these inquiries bring specific, vivid events to mind, then The Tower of Fools by Andrzej Sapkowski will be a fitting read for an enterprising European history enthusiast\\xa0such as yourself.\\nSet in the powder keg of 15th-century Europe, The Tower of Fools brings readers into a richly referential world of Christian history as it\\xa0casually dissects the events leading to the Protestant Reformation. Often Sapkowski's\\xa0references come audaciously close breaking the fourth wall (a character quite literally references nailing theses to a wall while\\xa0coincidentally owning a cat named Luther). These references are spearheaded by our protagonist, Reinmar of Bielawa, who is an infamous seducer of married women\\xa0and also a doctor, a student and a mage.\\nWhile the book is\\xa0strongly grounded in the real events and politics of Catholic history in Europe, Sapkowski delights in depicting a range of magical abilities and creatures in his version of medieval Europe. His characters encounter\\xa0the supernatural in a fairly believable way: with heavy skepticism, then fear, then denial and then, finally, acceptance. Magic, witchcraft and magical creatures enter and exit the story with such abruptness\\xa0that neither readers nor\\xa0characters\\xa0have time to digest the last before the second appears before them. The supernatural elements, however, are not the primary crux of the story. The Tower of Fools deploys irony with the grace of a stampeding elephant, and, as such, our story centers on the king of fools, Reinmar. Reinmar embarks on a journey in which\\xa0every wise character, force of nature, twist of fate and clear sign from God attempts to dissuade him from pursuing who Reinmar believes is his one true love, Adele. Adele is, naturally, a married woman, and Reinmar meets a motley crew of miscreants during his harrowing quest for her love.\\nThe Tower of Fools clearly sets up for a series\\xa0but provides ample entertainment\\xa0as a standalone story. Sapkowski’s primary draw is his ability to weave\\xa0rich historical context with a complex atmosphere of magic and superstition. The central characters are merely points of view that provide the reader\\xa0a detailed perspective of the world; Reinmar and company\\xa0are simple characters who grow little by the end of the story. However, this simplicity services the story Sapkowski tells, providing an easy starting point for readers to navigate the complex politics and superstition of the time period. While this is certainly not a slow read, Sapkowski does dole out plot points at a methodical pace. The first 300 pages or so pass before our central triad of characters meet up, and even longer passes before the larger subplots begin to come together.\\nEven with a fairly extensive understanding of Catholic history, I needed to keep Google handy while reading, and at one point I\\xa0looked up a map of Silesia at the narration’s not-so-subtle prompting. Sapkowski often incorporates three other languages, and occasionally up to five, in addition to English: Polish, Latin and Italian primarily, with occasional French and German. He incorporates theology\\xa0from early church figures like Augustine alongside the “modern” church leaders of the early- to mid-1400s, such as Wycliffe and Jan Hus and the Roman Curia. I would strongly suggest readers take the time to look up the words and references they do not understand. If all of these languages and references scare you—good. They should. The Tower of Fools is not an easy read,\\xa0but it's\\xa0quite rewarding\\xa0for readers ready to take the plunge.\"),\n",
       " (' ★ If the Boot Fits',\n",
       "  'Rebekah Weatherspoon',\n",
       "  'Romance',\n",
       "  \"One of romance’s brightest stars, Rebekah Weatherspoon is known for her sweet and steamy stories. With If the Boot Fits, the second in the Cowboys of California series, she\\xa0 burnishes that reputation further, delivering a thoroughly modern Cinderella story about an aspiring screenwriter hesitantly falling for a sexy, celebrity, cinnamon-roll-sweet hero with swagger.\\nWeatherspoon deftly translates the classic rags to riches fairy tale's core elements into a 21st-century context. As an overworked and underappreciated assistant, Amanda McQueen is the perfect contemporary equivalent of a put-upon poor relation—an invisible underling with proximity to the glitter and glam of Hollywood, but no meaningful access. Cinderella’s stepsisters and wicked stepmother have merged into a single figure, the pampered and punitive starlet Dru Anastasia, who uses Amanda as an emotional sounding board but provides little pay and no respect in return. Sam Pleasant, a former cowboy and scion of a venerable Black Hollywood family, makes an excellent 21st-century prince, and the Vanity Fair Oscar party easily stands in for a royal ball.\\nWhile it’s great fun to see this fantasy transformed, the relationship between Amanda and Sam is the beating heart of the story, and the way their connection develops is brand new. After all, Cinderella and Prince Charming didn’t hook up after the ball. Also new is Amanda’s irreverence and incredulity the morning after, when she wakes up in a hotel room and can’t help but think, “The night before must have been a dream.” Her mind boggles as she contemplates the series of events that led from the Vanity Fair Oscar party to an A-list after-party, and, eventually, to Sam’s bed. Her conclusion: “There was no way. . . . There was absolutely no freaking way she’d run into Samuel Pleasant at both events, and surely you’d be joking if you told her that sometime in the night she and Sam had completely hit it off.”\\nThis is Amanda’s voice throughout— lively, skeptical and incredibly relatable. Thinking this can’t happen or it’s just one night is incredibly freeing, and Amanda could use some freedom from her grind. One moment, she and Sam are having fun, with no names exchanged and no expectations. The next, he’s asking for her name in the middle of her “enthusiastic rendition of the cha-cha slide.” But she’s still skeptical, so she plays it cool and keeps it moving. “Sorry, I can’t hear you. I’m dancing,” is Amanda’s reply, and she assumes that’s that.\\nIt’s a joy to read those initial scenes and watch Sam and Amanda's warring instincts battle it out. Weatherspoon creates vivid, specific characters and gives them wonderful interior lives and excellent banter. Their romance begins with that one-night stand, and the initial spark grows through a shared sense of fun, common values and tastes. Sam recognizes something in Amanda, and he invites her into his home and his inner circle without hesitation.\\nIt should be obvious that they belong together, and yet, despite the chemistry and all their commonalities, according to the conventions of Hollywood, romantic fiction and fairy tales, Sam and Amanda qualify as an “unlikely couple,” defying major societal norms. Sam comes from a wealthy family and has just won an Academy Award, whereas Amanda is “a D-list actress’s lowly assistant” who is struggling to find her footing in the entertainment industry and to just make her rent each month. And even though they’re both African American, Amanda is a beautiful, dark-skinned, plus-size Black woman. In a culture that still holds fast to narrow definitions of what constitutes beauty, this reduces her status and eligibility. To be clear, Amanda has confidence in her talent and her looks. She’s also very aware, however, and sometimes overtly reminded, that successful Black women in Hollywood don’t often look like her. The contrast to her boss, Dru, a thin, light-skinned biracial woman, is especially prominent.\\nIt’s not often that distinctions like this are directly challenged on the page in traditionally published romance, and Weatherspoon handles it all with grace, allowing discomfiting truths and subtle social critique to emerge organically from the events of the story. Conflicts around class, color and size are just part of this romance, however. It’s really about character and family. Though If the Boot Fits places Amanda in a professional context in which she cannot fully escape toxic standards, much of the central relationship develops on Sam’s ranch, a hundred miles away from the image-obsessed center of the storm. As a result, their love story never feels didactic and the romance never gets weighed down. There’s warmth and lightness throughout this very contemporary, yet ultimately classically romantic retelling—Amanda thrives on the support from her own friends and family, and Sam’s family may be Black Hollywood royalty, but they're also grounded, kind human beings, who embrace her and remind her of home. Readers who want romance to explore some of the real issues that women like Amanda face and see her beautifully celebrated and cherished will absolutely adore this book.\")]"
      ]
     },
     "execution_count": 9,
     "metadata": {},
     "output_type": "execute_result"
    }
   ],
   "source": [
    "records"
   ]
  },
  {
   "cell_type": "raw",
   "metadata": {},
   "source": [
    "#save data in csv file\n",
    "with open('book_reviews.csv','w', newline='',encoding='utf-8') as f:\n",
    "    writer = csv.writer(f)\n",
    "    writer.writerow(['title', 'author', 'genre', 'review'])\n",
    "    writer.writerows(records)"
   ]
  },
  {
   "cell_type": "code",
   "execution_count": null,
   "metadata": {},
   "outputs": [],
   "source": []
  }
 ],
 "metadata": {
  "kernelspec": {
   "display_name": "Python 3",
   "language": "python",
   "name": "python3"
  },
  "language_info": {
   "codemirror_mode": {
    "name": "ipython",
    "version": 3
   },
   "file_extension": ".py",
   "mimetype": "text/x-python",
   "name": "python",
   "nbconvert_exporter": "python",
   "pygments_lexer": "ipython3",
   "version": "3.7.6"
  }
 },
 "nbformat": 4,
 "nbformat_minor": 4
}
